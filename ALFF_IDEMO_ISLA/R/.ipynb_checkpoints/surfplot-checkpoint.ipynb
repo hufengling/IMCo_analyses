{
 "cells": [
  {
   "cell_type": "code",
   "execution_count": 1,
   "metadata": {},
   "outputs": [
    {
     "name": "stderr",
     "output_type": "stream",
     "text": [
      "objc[27380]: Class QMacAutoReleasePoolTracker is implemented in both /Users/hufengling/mambaforge/lib/python3.9/site-packages/PyQt5/Qt5/lib/QtCore.framework/Versions/5/QtCore (0x106b37198) and /Users/hufengling/mambaforge/lib/libQt5Core.5.12.9.dylib (0x165461528). One of the two will be used. Which one is undefined.\n",
      "objc[27380]: Class QT_ROOT_LEVEL_POOL__THESE_OBJECTS_WILL_BE_RELEASED_WHEN_QAPP_GOES_OUT_OF_SCOPE is implemented in both /Users/hufengling/mambaforge/lib/python3.9/site-packages/PyQt5/Qt5/lib/QtCore.framework/Versions/5/QtCore (0x106b37210) and /Users/hufengling/mambaforge/lib/libQt5Core.5.12.9.dylib (0x1654615a0). One of the two will be used. Which one is undefined.\n",
      "objc[27380]: Class KeyValueObserver is implemented in both /Users/hufengling/mambaforge/lib/python3.9/site-packages/PyQt5/Qt5/lib/QtCore.framework/Versions/5/QtCore (0x106b37238) and /Users/hufengling/mambaforge/lib/libQt5Core.5.12.9.dylib (0x1654615c8). One of the two will be used. Which one is undefined.\n",
      "objc[27380]: Class RunLoopModeTracker is implemented in both /Users/hufengling/mambaforge/lib/python3.9/site-packages/PyQt5/Qt5/lib/QtCore.framework/Versions/5/QtCore (0x106b37288) and /Users/hufengling/mambaforge/lib/libQt5Core.5.12.9.dylib (0x165461618). One of the two will be used. Which one is undefined.\n"
     ]
    },
    {
     "name": "stdout",
     "output_type": "stream",
     "text": [
      "Notebook initialized with png backend.\n",
      "hello\n"
     ]
    }
   ],
   "source": [
    "import os\n",
    "from mayavi import mlab\n",
    "from surfer import Brain, project_volume_data\n",
    "\n",
    "mlab.init_notebook(backend='png')\n",
    "\n",
    "print(\"hello\")"
   ]
  },
  {
   "cell_type": "code",
   "execution_count": 5,
   "metadata": {},
   "outputs": [
    {
     "ename": "TabError",
     "evalue": "inconsistent use of tabs and spaces in indentation (3217158051.py, line 10)",
     "output_type": "error",
     "traceback": [
      "\u001b[0;36m  File \u001b[0;32m\"/var/folders/sj/bkymnjm96gx1t66x9hbv50mc0000gn/T/ipykernel_27380/3217158051.py\"\u001b[0;36m, line \u001b[0;32m10\u001b[0m\n\u001b[0;31m    if file != \".DS_Store\":\u001b[0m\n\u001b[0m                            ^\u001b[0m\n\u001b[0;31mTabError\u001b[0m\u001b[0;31m:\u001b[0m inconsistent use of tabs and spaces in indentation\n"
     ]
    }
   ],
   "source": [
    "output_dir = \"/Users/hufengling/Documents/Penn/Shinohara/IMCo_analyses/ALFF_IDEMO_ISLA/output/\" #TOCHANGE\n",
    "freeMNI_dir = os.path.join(output_dir, \"freesurfer_images/MNI_space\")\n",
    "figures_dir = os.path.join(output_dir, \"figures/surfaces\")\n",
    "\n",
    "nifti_list = []\n",
    "\n",
    "for root, dirs, files in os.walk(freeMNI_dir): #list of files registered to MNI space\n",
    "    for file in files:\n",
    "        #append the file name to the list\n",
    "        if file != \".DS_Store\":\n",
    "            nifti_list.append(os.path.join(root,file))\n",
    "\n",
    "for i in nifti_list:\n",
    "    print(i)"
   ]
  },
  {
   "cell_type": "code",
   "execution_count": null,
   "metadata": {},
   "outputs": [],
   "source": [
    "reg_file = os.path.join(os.environ[\"FREESURFER_HOME\"], \"average/mni152.register.dat\")\n",
    "\n",
    "for nifti_path in nifti_list:\n",
    "    nifti_name = nifti_path.split(\"/\")[-1].split(\".\")[0]\n",
    "    brain = Brain(subject_id = \"fsaverage\", \n",
    "                  hemi = \"split\", \n",
    "                  surf = \"inflated\", \n",
    "                  title = nifti_name,\n",
    "                  views=['med', 'lat'], \n",
    "                  background=\"white\")\n",
    "    \n",
    "    surf_data_lh = project_volume_data(nifti_path, \"lh\", reg_file, smooth_fwhm = 3)\n",
    "    surf_data_rh = project_volume_data(nifti_path, \"rh\", reg_file, smooth_fwhm = 3)\n",
    "    \n",
    "    min_whole = min(min(surf_data_lh), min(surf_data_rh))\n",
    "    max_whole = max(max(surf_data_lh), max(surf_data_rh))\n",
    "    \n",
    "    if(min_whole == max_whole):\n",
    "        max_whole = 1\n",
    "    \n",
    "    print(min_whole, max_whole)\n",
    "\n",
    "    brain.add_data(surf_data_lh, min = min_whole, max = max_whole, hemi = 'lh')\n",
    "    brain.add_data(surf_data_rh, min = min_whole, max = max_whole, hemi = 'rh')\n",
    "    \n",
    "    brain.save_image(os.path.join(figures_dir, nifti_name + \".png\"))\n",
    "    print(\"done: \" + nifti_name)\n",
    "    \n",
    "print(\"all done!\")"
   ]
  }
 ],
 "metadata": {
  "kernelspec": {
   "display_name": "Python 3 (ipykernel)",
   "language": "python",
   "name": "python3"
  },
  "language_info": {
   "codemirror_mode": {
    "name": "ipython",
    "version": 3
   },
   "file_extension": ".py",
   "mimetype": "text/x-python",
   "name": "python",
   "nbconvert_exporter": "python",
   "pygments_lexer": "ipython3",
   "version": "3.9.7"
  }
 },
 "nbformat": 4,
 "nbformat_minor": 4
}
