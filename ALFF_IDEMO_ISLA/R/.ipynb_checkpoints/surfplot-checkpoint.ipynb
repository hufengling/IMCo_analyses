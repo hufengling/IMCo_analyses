{
 "cells": [
  {
   "cell_type": "code",
   "execution_count": 5,
   "metadata": {},
   "outputs": [
    {
     "name": "stdout",
     "output_type": "stream",
     "text": [
      "Notebook initialized with png backend.\n"
     ]
    }
   ],
   "source": [
    "import os\n",
    "import vtk # for some reason need to import vtk first... even though I never use it\n",
    "from mayavi import mlab\n",
    "from surfer import Brain, project_volume_data\n",
    "\n",
    "mlab.init_notebook(backend='png')"
   ]
  },
  {
   "cell_type": "code",
   "execution_count": 6,
   "metadata": {},
   "outputs": [
    {
     "ename": "ModuleNotFoundError",
     "evalue": "No module named 'cairo'",
     "output_type": "error",
     "traceback": [
      "\u001b[0;31m---------------------------------------------------------------------------\u001b[0m",
      "\u001b[0;31mModuleNotFoundError\u001b[0m                       Traceback (most recent call last)",
      "\u001b[0;32m/scratch/ipykernel_105407/1415502005.py\u001b[0m in \u001b[0;36m<module>\u001b[0;34m\u001b[0m\n\u001b[1;32m      1\u001b[0m \u001b[0;32mimport\u001b[0m \u001b[0mmatplotlib\u001b[0m \u001b[0;32mas\u001b[0m \u001b[0mmpl\u001b[0m\u001b[0;34m\u001b[0m\u001b[0;34m\u001b[0m\u001b[0m\n\u001b[0;32m----> 2\u001b[0;31m \u001b[0;32mimport\u001b[0m \u001b[0mcairo\u001b[0m\u001b[0;34m\u001b[0m\u001b[0;34m\u001b[0m\u001b[0m\n\u001b[0m\u001b[1;32m      3\u001b[0m \u001b[0mmpl\u001b[0m\u001b[0;34m.\u001b[0m\u001b[0muse\u001b[0m\u001b[0;34m(\u001b[0m\u001b[0;34m\"GTK3cairo\"\u001b[0m\u001b[0;34m)\u001b[0m\u001b[0;34m\u001b[0m\u001b[0;34m\u001b[0m\u001b[0m\n\u001b[1;32m      4\u001b[0m \u001b[0;32mimport\u001b[0m \u001b[0mmatplotlib\u001b[0m\u001b[0;34m.\u001b[0m\u001b[0mpyplot\u001b[0m \u001b[0;32mas\u001b[0m \u001b[0mplt\u001b[0m\u001b[0;34m\u001b[0m\u001b[0;34m\u001b[0m\u001b[0m\n\u001b[1;32m      5\u001b[0m \u001b[0mplt\u001b[0m\u001b[0;34m.\u001b[0m\u001b[0mplot\u001b[0m\u001b[0;34m(\u001b[0m\u001b[0;34m[\u001b[0m\u001b[0;36m1\u001b[0m\u001b[0;34m,\u001b[0m\u001b[0;36m2\u001b[0m\u001b[0;34m,\u001b[0m\u001b[0;36m3\u001b[0m\u001b[0;34m,\u001b[0m\u001b[0;36m4\u001b[0m\u001b[0;34m]\u001b[0m\u001b[0;34m,\u001b[0m\u001b[0;34m'*-'\u001b[0m\u001b[0;34m)\u001b[0m\u001b[0;34m\u001b[0m\u001b[0;34m\u001b[0m\u001b[0m\n",
      "\u001b[0;31mModuleNotFoundError\u001b[0m: No module named 'cairo'"
     ]
    }
   ],
   "source": [
    "import matplotlib as mpl\n",
    "import cairo\n",
    "mpl.use(\"GTK3cairo\")\n",
    "import matplotlib.pyplot as plt\n",
    "plt.plot([1,2,3,4],'*-')"
   ]
  },
  {
   "cell_type": "code",
   "execution_count": 5,
   "metadata": {},
   "outputs": [
    {
     "name": "stdout",
     "output_type": "stream",
     "text": [
      "/home/fengling/Documents/IMCo_analyses/ALFF_IDEMO_ISLA/output/freesurfer_images/MNI_space/aal_regions/aal_7000.nii.gz\n",
      "/home/fengling/Documents/IMCo_analyses/ALFF_IDEMO_ISLA/output/freesurfer_images/MNI_space/aal_regions/aal_3000.nii.gz\n",
      "/home/fengling/Documents/IMCo_analyses/ALFF_IDEMO_ISLA/output/freesurfer_images/MNI_space/aal_regions/aal_9000.nii.gz\n",
      "/home/fengling/Documents/IMCo_analyses/ALFF_IDEMO_ISLA/output/freesurfer_images/MNI_space/aal_regions/aal_4000.nii.gz\n",
      "/home/fengling/Documents/IMCo_analyses/ALFF_IDEMO_ISLA/output/freesurfer_images/MNI_space/aal_regions/aal_2000.nii.gz\n",
      "/home/fengling/Documents/IMCo_analyses/ALFF_IDEMO_ISLA/output/freesurfer_images/MNI_space/aal_regions/aal_8000.nii.gz\n",
      "/home/fengling/Documents/IMCo_analyses/ALFF_IDEMO_ISLA/output/freesurfer_images/MNI_space/aal_regions/aal_5000.nii.gz\n",
      "/home/fengling/Documents/IMCo_analyses/ALFF_IDEMO_ISLA/output/freesurfer_images/MNI_space/aal_regions/aal_6000.nii.gz\n",
      "/home/fengling/Documents/IMCo_analyses/ALFF_IDEMO_ISLA/output/freesurfer_images/MNI_space/yeo7_regions/yeo7_2.nii.gz\n",
      "/home/fengling/Documents/IMCo_analyses/ALFF_IDEMO_ISLA/output/freesurfer_images/MNI_space/yeo7_regions/yeo7_7.nii.gz\n",
      "/home/fengling/Documents/IMCo_analyses/ALFF_IDEMO_ISLA/output/freesurfer_images/MNI_space/yeo7_regions/yeo7_5.nii.gz\n",
      "/home/fengling/Documents/IMCo_analyses/ALFF_IDEMO_ISLA/output/freesurfer_images/MNI_space/yeo7_regions/yeo7_4.nii.gz\n",
      "/home/fengling/Documents/IMCo_analyses/ALFF_IDEMO_ISLA/output/freesurfer_images/MNI_space/yeo7_regions/yeo7_1.nii.gz\n",
      "/home/fengling/Documents/IMCo_analyses/ALFF_IDEMO_ISLA/output/freesurfer_images/MNI_space/yeo7_regions/yeo7_3.nii.gz\n",
      "/home/fengling/Documents/IMCo_analyses/ALFF_IDEMO_ISLA/output/freesurfer_images/MNI_space/yeo7_regions/yeo7_6.nii.gz\n",
      "/home/fengling/Documents/IMCo_analyses/ALFF_IDEMO_ISLA/output/freesurfer_images/MNI_space/pvals/adjusted/unscaled_wcor_age_fdr05.nii.gz\n",
      "/home/fengling/Documents/IMCo_analyses/ALFF_IDEMO_ISLA/output/freesurfer_images/MNI_space/pvals/adjusted/unscaled_wcor_sex_fdr05.nii.gz\n",
      "/home/fengling/Documents/IMCo_analyses/ALFF_IDEMO_ISLA/output/freesurfer_images/MNI_space/pvals/adjusted/global_wcov_sex_fdr05.nii.gz\n",
      "/home/fengling/Documents/IMCo_analyses/ALFF_IDEMO_ISLA/output/freesurfer_images/MNI_space/pvals/adjusted/unscaled_wcor_sex-age_fdr05.nii.gz\n",
      "/home/fengling/Documents/IMCo_analyses/ALFF_IDEMO_ISLA/output/freesurfer_images/MNI_space/pvals/adjusted/global_wcov_sex-age_fdr05.nii.gz\n",
      "/home/fengling/Documents/IMCo_analyses/ALFF_IDEMO_ISLA/output/freesurfer_images/MNI_space/pvals/adjusted/global_wcov_age_fdr05.nii.gz\n",
      "/home/fengling/Documents/IMCo_analyses/ALFF_IDEMO_ISLA/output/freesurfer_images/MNI_space/descriptive/unscaled_wcor_mean.nii.gz\n",
      "/home/fengling/Documents/IMCo_analyses/ALFF_IDEMO_ISLA/output/freesurfer_images/MNI_space/descriptive/global_wcov_variance.nii.gz\n",
      "/home/fengling/Documents/IMCo_analyses/ALFF_IDEMO_ISLA/output/freesurfer_images/MNI_space/descriptive/cbf-isla_mean.nii.gz\n",
      "/home/fengling/Documents/IMCo_analyses/ALFF_IDEMO_ISLA/output/freesurfer_images/MNI_space/descriptive/idemo_variance.nii.gz\n",
      "/home/fengling/Documents/IMCo_analyses/ALFF_IDEMO_ISLA/output/freesurfer_images/MNI_space/descriptive/cbf-isla_variance.nii.gz\n",
      "/home/fengling/Documents/IMCo_analyses/ALFF_IDEMO_ISLA/output/freesurfer_images/MNI_space/descriptive/global_wcov_mean.nii.gz\n",
      "/home/fengling/Documents/IMCo_analyses/ALFF_IDEMO_ISLA/output/freesurfer_images/MNI_space/descriptive/idemo_mean.nii.gz\n",
      "/home/fengling/Documents/IMCo_analyses/ALFF_IDEMO_ISLA/output/freesurfer_images/MNI_space/descriptive/alff_mean.nii.gz\n",
      "/home/fengling/Documents/IMCo_analyses/ALFF_IDEMO_ISLA/output/freesurfer_images/MNI_space/descriptive/unscaled_wcor_variance.nii.gz\n",
      "/home/fengling/Documents/IMCo_analyses/ALFF_IDEMO_ISLA/output/freesurfer_images/MNI_space/descriptive/alff_variance.nii.gz\n"
     ]
    },
    {
     "data": {
      "text/plain": [
       "'/home/fengling/Documents/IMCo_analyses/ALFF_IDEMO_ISLA/output/freesurfer_images/MNI_space/aal_regions/aal_7000.nii.gz'"
      ]
     },
     "execution_count": 5,
     "metadata": {},
     "output_type": "execute_result"
    }
   ],
   "source": [
    "output_dir = \"/home/fengling/Documents/IMCo_analyses/ALFF_IDEMO_ISLA/output/\" #TOCHANGE\n",
    "freeMNI_dir = os.path.join(output_dir, \"freesurfer_images/MNI_space\")\n",
    "figures_dir = os.path.join(output_dir, \"figures/surfaces\")\n",
    "\n",
    "nifti_list = []\n",
    "\n",
    "for root, dirs, files in os.walk(freeMNI_dir): #list of files registered to MNI space\n",
    "\tfor file in files:\n",
    "        #append the file name to the list\n",
    "\t\tnifti_list.append(os.path.join(root,file))\n",
    "\n",
    "for i in nifti_list:\n",
    "    print(i)\n",
    "\n",
    "nifti_path = nifti_list[0]\n",
    "nifti_path"
   ]
  },
  {
   "cell_type": "code",
   "execution_count": null,
   "metadata": {},
   "outputs": [],
   "source": [
    "reg_file = os.path.join(os.environ[\"FREESURFER_HOME\"], \"average/mni152.register.dat\")\n",
    "\n",
    "for nifti_path in nifti_list:\n",
    "    nifti_name = nifti_path.split(\"/\")[-1].split(\".\")[0]\n",
    "    brain = Brain(subject_id = \"fsaverage\", \n",
    "                  hemi = \"split\", \n",
    "                  surf = \"inflated\", \n",
    "                  title = nifti_name,\n",
    "                  views=['med', 'lat'], \n",
    "                  background=\"white\")\n",
    "    \n",
    "    surf_data_lh = project_volume_data(nifti_path, \"lh\", reg_file, smooth_fwhm = 3)\n",
    "    surf_data_rh = project_volume_data(nifti_path, \"rh\", reg_file, smooth_fwhm = 3)\n",
    "    \n",
    "    min_whole = min(min(surf_data_lh), min(surf_data_rh))\n",
    "    max_whole = max(max(surf_data_lh), max(surf_data_rh))\n",
    "\n",
    "    brain.add_data(surf_data_lh, min = min_whole, max = max_whole, hemi = 'lh')\n",
    "    brain.add_data(surf_data_rh, min = min_whole, max = max_whole, hemi = 'rh')\n",
    "    \n",
    "    brain.save_image(os.path.join(figures_dir, nifti_name + \".png\"))\n",
    "    print(\"done: \" + mri_name)"
   ]
  },
  {
   "cell_type": "code",
   "execution_count": null,
   "metadata": {},
   "outputs": [],
   "source": [
    "reg_file = os.path.join(os.environ[\"FREESURFER_HOME\"], \"average/mni152.register.dat\")\n",
    "\n",
    "nifti_name = nifti_path.split(\"/\")[-1].split(\".\")[0]\n",
    "brain = Brain(subject_id = \"fsaverage\", \n",
    "              hemi = \"split\", \n",
    "              surf = \"inflated\", \n",
    "              title = \"TOCHANGE\",\n",
    "              views=['med', 'lat'], \n",
    "              background=\"white\")\n",
    "    \n",
    "surf_data_lh = project_volume_data(nifti_path, \"lh\", reg_file, smooth_fwhm = 3)\n",
    "surf_data_rh = project_volume_data(nifti_path, \"rh\", reg_file, smooth_fwhm = 3)\n",
    "    \n",
    "min_whole = min(min(surf_data_lh), min(surf_data_rh))\n",
    "max_whole = max(max(surf_data_lh), max(surf_data_rh))\n",
    "\n",
    "brain.add_data(surf_data_lh, min = min_whole, max = max_whole, hemi = 'lh')\n",
    "brain.add_data(surf_data_rh, min = min_whole, max = max_whole, hemi = 'rh')\n",
    "    \n",
    "brain.save_image(os.path.join(figures_dir, nifti_name + \".png\"))\n",
    "print(\"done: \" + nifti_name)"
   ]
  }
 ],
 "metadata": {
  "kernelspec": {
   "display_name": "Python 3 (ipykernel)",
   "language": "python",
   "name": "python3"
  },
  "language_info": {
   "codemirror_mode": {
    "name": "ipython",
    "version": 3
   },
   "file_extension": ".py",
   "mimetype": "text/x-python",
   "name": "python",
   "nbconvert_exporter": "python",
   "pygments_lexer": "ipython3",
   "version": "3.9.7"
  }
 },
 "nbformat": 4,
 "nbformat_minor": 4
}
