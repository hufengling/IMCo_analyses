{
 "cells": [
  {
   "cell_type": "code",
   "execution_count": 1,
   "metadata": {
    "scrolled": true
   },
   "outputs": [
    {
     "name": "stdout",
     "output_type": "stream",
     "text": [
      "Notebook initialized with png backend.\n"
     ]
    }
   ],
   "source": [
    "import os\n",
    "from mayavi import mlab\n",
    "from surfer import Brain, project_volume_data\n",
    "\n",
    "mlab.init_notebook(backend='png')"
   ]
  },
  {
   "cell_type": "code",
   "execution_count": 2,
   "metadata": {},
   "outputs": [
    {
     "name": "stdout",
     "output_type": "stream",
     "text": [
      "/Users/hufengling/Documents/Penn/Shinohara/IMCo_analyses/ALFF_IDEMO/R/../output/freesurfer_images/MNI_space/pvals/modality/alff_age_fdr05.nii.gz\n",
      "/Users/hufengling/Documents/Penn/Shinohara/IMCo_analyses/ALFF_IDEMO/R/../output/freesurfer_images/MNI_space/pvals/modality/idemo_age_fdr05.nii.gz\n",
      "/Users/hufengling/Documents/Penn/Shinohara/IMCo_analyses/ALFF_IDEMO/R/../output/freesurfer_images/MNI_space/pvals/modality/idemo_sex-age_fdr05.nii.gz\n",
      "/Users/hufengling/Documents/Penn/Shinohara/IMCo_analyses/ALFF_IDEMO/R/../output/freesurfer_images/MNI_space/pvals/modality/idemo_sex_fdr05.nii.gz\n",
      "/Users/hufengling/Documents/Penn/Shinohara/IMCo_analyses/ALFF_IDEMO/R/../output/freesurfer_images/MNI_space/pvals/modality/alff_sex-age_fdr05.nii.gz\n",
      "/Users/hufengling/Documents/Penn/Shinohara/IMCo_analyses/ALFF_IDEMO/R/../output/freesurfer_images/MNI_space/pvals/modality/alff_sex_fdr05.nii.gz\n",
      "/Users/hufengling/Documents/Penn/Shinohara/IMCo_analyses/ALFF_IDEMO/R/../output/freesurfer_images/MNI_space/pvals/adjusted/global_wcov_sex_fdr05.nii.gz\n",
      "/Users/hufengling/Documents/Penn/Shinohara/IMCo_analyses/ALFF_IDEMO/R/../output/freesurfer_images/MNI_space/pvals/adjusted/unscaled_wcor_sex-age_fdr05.nii.gz\n",
      "/Users/hufengling/Documents/Penn/Shinohara/IMCo_analyses/ALFF_IDEMO/R/../output/freesurfer_images/MNI_space/pvals/adjusted/global_wcov_sex-age_fdr05.nii.gz\n",
      "/Users/hufengling/Documents/Penn/Shinohara/IMCo_analyses/ALFF_IDEMO/R/../output/freesurfer_images/MNI_space/pvals/adjusted/unscaled_wcor_sex_fdr05.nii.gz\n",
      "/Users/hufengling/Documents/Penn/Shinohara/IMCo_analyses/ALFF_IDEMO/R/../output/freesurfer_images/MNI_space/pvals/adjusted/unscaled_wcor_age_fdr05.nii.gz\n",
      "/Users/hufengling/Documents/Penn/Shinohara/IMCo_analyses/ALFF_IDEMO/R/../output/freesurfer_images/MNI_space/pvals/adjusted/global_wcov_age_fdr05.nii.gz\n",
      "/Users/hufengling/Documents/Penn/Shinohara/IMCo_analyses/ALFF_IDEMO/R/../output/freesurfer_images/MNI_space/descriptive/unscaled_wcor_mean.nii.gz\n",
      "/Users/hufengling/Documents/Penn/Shinohara/IMCo_analyses/ALFF_IDEMO/R/../output/freesurfer_images/MNI_space/descriptive/global_wcov_variance.nii.gz\n",
      "/Users/hufengling/Documents/Penn/Shinohara/IMCo_analyses/ALFF_IDEMO/R/../output/freesurfer_images/MNI_space/descriptive/idemo_mean.nii.gz\n",
      "/Users/hufengling/Documents/Penn/Shinohara/IMCo_analyses/ALFF_IDEMO/R/../output/freesurfer_images/MNI_space/descriptive/idemo_variance.nii.gz\n",
      "/Users/hufengling/Documents/Penn/Shinohara/IMCo_analyses/ALFF_IDEMO/R/../output/freesurfer_images/MNI_space/descriptive/unscaled_wcor_variance.nii.gz\n",
      "/Users/hufengling/Documents/Penn/Shinohara/IMCo_analyses/ALFF_IDEMO/R/../output/freesurfer_images/MNI_space/descriptive/alff_mean.nii.gz\n",
      "/Users/hufengling/Documents/Penn/Shinohara/IMCo_analyses/ALFF_IDEMO/R/../output/freesurfer_images/MNI_space/descriptive/alff_variance.nii.gz\n",
      "/Users/hufengling/Documents/Penn/Shinohara/IMCo_analyses/ALFF_IDEMO/R/../output/freesurfer_images/MNI_space/descriptive/global_wcov_mean.nii.gz\n"
     ]
    }
   ],
   "source": [
    "output_dir = os.path.join(os.getcwd(), \"../output\")\n",
    "freeMNI_dir = os.path.join(output_dir, \"freesurfer_images/MNI_space\")\n",
    "figures_dir = os.path.join(output_dir, \"figures/surfaces\")\n",
    "\n",
    "nifti_list = []\n",
    "\n",
    "for root, dirs, files in os.walk(freeMNI_dir): #list of files registered to MNI space\n",
    "    for file in files:\n",
    "        #append the file name to the list\n",
    "        if file != \".DS_Store\" and \"aal\" not in file and \"yeo\" not in file:\n",
    "            nifti_list.append(os.path.join(root,file))\n",
    "            \n",
    "for name in nifti_list:\n",
    "    print(name)"
   ]
  },
  {
   "cell_type": "code",
   "execution_count": 3,
   "metadata": {},
   "outputs": [
    {
     "name": "stdout",
     "output_type": "stream",
     "text": [
      "done: alff_age_fdr05\n",
      "done: idemo_age_fdr05\n",
      "done: idemo_sex-age_fdr05\n",
      "done: idemo_sex_fdr05\n",
      "done: alff_sex-age_fdr05\n",
      "done: alff_sex_fdr05\n",
      "done: global_wcov_sex_fdr05\n",
      "done: unscaled_wcor_sex-age_fdr05\n",
      "done: global_wcov_sex-age_fdr05\n",
      "done: unscaled_wcor_sex_fdr05\n",
      "done: unscaled_wcor_age_fdr05\n",
      "done: global_wcov_age_fdr05\n",
      "done: unscaled_wcor_mean\n",
      "done: global_wcov_variance\n",
      "done: idemo_mean\n",
      "done: idemo_variance\n",
      "done: unscaled_wcor_variance\n",
      "done: alff_mean\n",
      "done: alff_variance\n",
      "done: global_wcov_mean\n",
      "all done!\n"
     ]
    }
   ],
   "source": [
    "figures_dir = os.path.join(output_dir, \"figures/surfaces_fwhm0\")\n",
    "os.makedirs(figures_dir, exist_ok=True)\n",
    "\n",
    "reg_file = os.path.join(os.environ[\"FREESURFER_HOME\"], \"average/mni152.register.dat\")\n",
    "\n",
    "for nifti_path in nifti_list:\n",
    "    nifti_name = nifti_path.split(\"/\")[-1].split(\".\")[0]\n",
    "    brain = Brain(subject_id = \"fsaverage\", \n",
    "                  hemi = \"split\", \n",
    "                  surf = \"inflated\", \n",
    "                  title = nifti_name,\n",
    "                  views=['med', 'lat'], \n",
    "                  background=\"white\")\n",
    "    \n",
    "    surf_data_lh = project_volume_data(nifti_path, \"lh\", reg_file, smooth_fwhm = 0)\n",
    "    surf_data_rh = project_volume_data(nifti_path, \"rh\", reg_file, smooth_fwhm = 0)\n",
    "    \n",
    "    min_whole = min(min(surf_data_lh), min(surf_data_rh))\n",
    "    max_whole = max(max(surf_data_lh), max(surf_data_rh))\n",
    "    \n",
    "    if(min_whole == max_whole):\n",
    "        max_whole = 1\n",
    "\n",
    "    brain.add_data(surf_data_rh, min = min_whole, max = max_whole, hemi = 'rh')\n",
    "    brain.add_data(surf_data_lh, min = min_whole, max = max_whole, hemi = 'lh')\n",
    "    brain.add_text(x = 0.5, y = 0.85, text = nifti_name, name = nifti_name)\n",
    "    \n",
    "    brain.save_image(os.path.join(figures_dir, nifti_name + \".png\"))\n",
    "    print(\"done: \" + nifti_name)\n",
    "    \n",
    "print(\"all done!\")"
   ]
  }
 ],
 "metadata": {
  "kernelspec": {
   "display_name": "Python 3 (ipykernel)",
   "language": "python",
   "name": "python3"
  },
  "language_info": {
   "codemirror_mode": {
    "name": "ipython",
    "version": 3
   },
   "file_extension": ".py",
   "mimetype": "text/x-python",
   "name": "python",
   "nbconvert_exporter": "python",
   "pygments_lexer": "ipython3",
   "version": "3.9.7"
  }
 },
 "nbformat": 4,
 "nbformat_minor": 4
}
